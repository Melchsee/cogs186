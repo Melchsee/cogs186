{
 "cells": [
  {
   "cell_type": "markdown",
   "metadata": {
    "id": "IBXq6j6Gnp1j"
   },
   "source": [
    "# Traveling Salesman Problem\n",
    "In this assignment, we’ll be using a Genetic Algorithm to find a solution to the traveling salesman problem (TSP). The TSP is described as follows:\n",
    "“Given a list of cities and the distances between each pair of cities, what is the shortest possible route that visits each city and returns to the origin city?”\n",
    "![picture](https://drive.google.com/uc?export=view&id=1TdAXs4W-Ms_tUAoo1xr4IAwieJ6PkIon)\n",
    "Illustration of a potential solution to the Traveling Salesman Problem."
   ]
  },
  {
   "cell_type": "markdown",
   "metadata": {
    "id": "43cSQSQvnp1r"
   },
   "source": [
    "Given this, there are two **important rules** to keep in mind:\n",
    "- Each city needs to be visited exactly one time\n",
    "- We must return to the starting city, so our total distance needs to be calculated accordingly  \n",
    "## Approach:  \n",
    "Let’s start with a few definitions, rephrased in the context of the TSP:\n",
    "- Gene: a city (represented as (x, y) coordinates)\n",
    "- Individual (aka “chromosome”): a single route satisfying the conditions above\n",
    "- Population: a collection of possible routes (i.e., collection of individuals)\n",
    "- Parents: two routes that are combined to create a new route\n",
    "- Mating pool: a collection of parents that are used to create our next population (thus creating the next generation of routes)\n",
    "- Fitness: a function that tells us how good each route is (in our case, how short the distance is)\n",
    "- Mutation: a way to introduce variation in our population by randomly swapping two cities in a route\n",
    "- Elitism: a way to carry the best individuals into the next generation    \n",
    "  \n",
    "Our GA will proceed in the following steps:\n",
    "- 1. Create the population\n",
    "- 2. Determine fitness\n",
    "- 3. Select the mating pool\n",
    "- 4. Breed\n",
    "- 5. Mutate\n",
    "- 6. Repeat  \n",
    "Now, let’s see this in action."
   ]
  },
  {
   "cell_type": "markdown",
   "metadata": {
    "id": "lVjztTo9np1s"
   },
   "source": [
    "## Create necessary classes and functions"
   ]
  },
  {
   "cell_type": "markdown",
   "metadata": {
    "id": "vwQgwHt5np1t"
   },
   "source": [
    "Create two classes: City and Fitness  \n",
    "We first create a City class that will allow us to create and handle our cities. These are simply our (x, y) coordinates. Within the City class, we add a distance calculation (making use of the Pythagorean theorem) in line 6 and a cleaner way to output the cities as coordinates with `__repr __`."
   ]
  },
  {
   "cell_type": "markdown",
   "metadata": {
    "id": "xDXaAhoSnp1t"
   },
   "source": [
    "Create class to handle \"cities\""
   ]
  },
  {
   "cell_type": "code",
   "execution_count": 215,
   "metadata": {
    "id": "K8bCkeranp1u"
   },
   "outputs": [],
   "source": [
    "import numpy as np, random, operator, pandas as pd, matplotlib.pyplot as plt\n",
    "import matplotlib.animation as animation\n",
    "import time"
   ]
  },
  {
   "cell_type": "code",
   "execution_count": 216,
   "metadata": {
    "id": "4gLet7tPnp1u"
   },
   "outputs": [],
   "source": [
    "class City:\n",
    "    def __init__(self, x, y):\n",
    "        self.x = x\n",
    "        self.y = y\n",
    "    \n",
    "    def distance(self, city):\n",
    "        xDis = abs(self.x - city.x)\n",
    "        yDis = abs(self.y - city.y)\n",
    "        distance = np.sqrt((xDis ** 2) + (yDis ** 2))\n",
    "        return distance\n",
    "    \n",
    "    def __repr__(self):\n",
    "        return \"(\" + str(self.x) + \",\" + str(self.y) + \")\""
   ]
  },
  {
   "cell_type": "markdown",
   "metadata": {
    "id": "X_t6nzHOnp1v"
   },
   "source": [
    "We’ll also create a Fitness class. In our case, we’ll treat the fitness as the inverse of the route distance. We want to minimize route distance, so a larger fitness score is better. Based on Rule #2, we need to start and end at the same place, so this extra calculation is accounted for in line 13  \n",
    "`(if i + 1 < len(self.route))`  \n",
    "of the distance calculation."
   ]
  },
  {
   "cell_type": "code",
   "execution_count": 217,
   "metadata": {
    "id": "-ExtwMD_np1v"
   },
   "outputs": [],
   "source": [
    "class Fitness:\n",
    "    def __init__(self, route):\n",
    "        self.route = route\n",
    "        self.distance = 0\n",
    "        self.fitness= 0.0\n",
    "    \n",
    "    def routeDistance(self):\n",
    "        if self.distance ==0:\n",
    "            pathDistance = 0\n",
    "            for i in range(0, len(self.route)):\n",
    "                fromCity = self.route[i]\n",
    "                toCity = None\n",
    "                if i + 1 < len(self.route):\n",
    "                    toCity = self.route[i + 1]\n",
    "                else:\n",
    "                    toCity = self.route[0]\n",
    "                pathDistance += fromCity.distance(toCity)\n",
    "            self.distance = pathDistance\n",
    "        return self.distance\n",
    "    \n",
    "    def routeFitness(self):\n",
    "        if self.fitness == 0:\n",
    "            self.fitness = 1 / float(self.routeDistance())\n",
    "        return self.fitness"
   ]
  },
  {
   "cell_type": "markdown",
   "metadata": {
    "id": "goPiNnxOnp1w"
   },
   "source": [
    "## Create our initial population"
   ]
  },
  {
   "cell_type": "markdown",
   "metadata": {
    "id": "RjfH8VLdnp1w"
   },
   "source": [
    "Route generator.  \n",
    "We now can make our initial population (aka first generation). To do so, we need a way to create a function that produces routes that satisfy our conditions (Note: we’ll create our list of cities when we actually run the GA at the end of the tutorial). To create an individual, we randomly select the order in which we visit each city:"
   ]
  },
  {
   "cell_type": "code",
   "execution_count": 218,
   "metadata": {
    "id": "qgm0rIb-np1w"
   },
   "outputs": [],
   "source": [
    "def createRoute(cityList):\n",
    "    \"\"\"\n",
    "    Creates a random individual.\n",
    "    \n",
    "    input: None\n",
    "    output: A list of City class objects. \n",
    "    \"\"\"\n",
    "    route = random.sample(cityList, len(cityList))\n",
    "    return route"
   ]
  },
  {
   "cell_type": "markdown",
   "metadata": {
    "id": "DODvp14Znp1x"
   },
   "source": [
    "Create first \"population\" (list of routes)  \n",
    "This produces one individual, but we want a full population, so let’s do that in our next function. This is as simple as looping through the createRoute function until we have as many routes as we want for our population."
   ]
  },
  {
   "cell_type": "code",
   "execution_count": 219,
   "metadata": {
    "id": "5zP__VuQnp1x"
   },
   "outputs": [],
   "source": [
    "def initialPopulation(popSize, cityList):\n",
    "    \"\"\"\n",
    "    Create inital population of a given size.\n",
    "    Returns a list of random planes\n",
    "    \"\"\"\n",
    "    population = []\n",
    "\n",
    "    for i in range(popSize):\n",
    "        population.append(createRoute(cityList))\n",
    "    return population"
   ]
  },
  {
   "cell_type": "markdown",
   "metadata": {
    "id": "sLHi7tTJnp1x"
   },
   "source": [
    "Note: we only have to use these functions to create the initial population. Subsequent generations will be produced through breeding and mutation."
   ]
  },
  {
   "cell_type": "markdown",
   "metadata": {
    "id": "KbkQ58nBnp1y"
   },
   "source": [
    "## Create the genetic algorithm - Determine Fitness"
   ]
  },
  {
   "cell_type": "markdown",
   "metadata": {
    "id": "c7p394nwnp1y"
   },
   "source": [
    "Rank individuals  \n",
    "Next, the evolutionary fun begins. To simulate our “survival of the fittest”, we can make use of Fitness to rank each individual in the population. Our output will be an ordered list with the route IDs and each associated fitness score."
   ]
  },
  {
   "cell_type": "code",
   "execution_count": 220,
   "metadata": {
    "id": "BmfnWZRQnp1y"
   },
   "outputs": [],
   "source": [
    "def rankRoutes(population):\n",
    "    \"\"\"\n",
    "    This function sorts the given population in decreasing order of the fitness score.\n",
    "    Returns a list of ordered pairs of (index, fitness) where index is the index of the\n",
    "    individual within the population\n",
    "    \"\"\"\n",
    "    fitnessResults = {}\n",
    "    for i in range(0,len(population)):\n",
    "        fitnessResults[i] = Fitness(population[i]).routeFitness()\n",
    "    return sorted(fitnessResults.items(), key = operator.itemgetter(1), reverse = True)"
   ]
  },
  {
   "cell_type": "markdown",
   "metadata": {
    "id": "zioKQv6tnp1z"
   },
   "source": [
    "## Select the mating pool\n",
    "There are a few options for how to select the parents that will be used to create the next generation. The most common approaches are either fitness proportionate selection (aka “roulette wheel selection”) or tournament selection:\n",
    "- Fitness proportionate selection: The fitness of each individual relative to the population is used to assign a probability of selection. Think of this as the fitness-weighted probability of being selected.\n",
    "- Tournament selection: A set number of individuals are randomly selected from the population and the one with the highest fitness in the group is chosen as the first parent. This is repeated to chose the second parent.  \n",
    "\n",
    "Another design feature to consider is the use of elitism. With elitism, the best performing individuals from the population will automatically carry over to the next generation, ensuring that the most successful individuals persist.  \n",
    "\n",
    "\n",
    "\n",
    "**Algorithm for weighted random number selection:** Say we have an array of weights $W$, $w_{i}$ is the weight that is proportional to the probability of selecting number $i$. First, we need to find the prefix sum $p$ of each number.($p_{k}$ = sum of all the weights from i= 0 to i= k) $$ p_{k} = \\sum_{i=0}^{i=k} w_{i}$$\n",
    "Next, we randomly select a value between 0 and the largest prefix sum (the prefix sum of the last individual, which is also the sum of all weights). To return the selected number, we find the smallest index that corresponds to the prefix sum greater than the randomly chosen value.\n",
    "\n",
    "**To-do** (1.1)\n",
    "1. Implement `selection`. (4 points)"
   ]
  },
  {
   "cell_type": "code",
   "execution_count": 221,
   "metadata": {
    "id": "aOl0v-q_np10"
   },
   "outputs": [],
   "source": [
    "def selection(popRanked, eliteSize):\n",
    "    \"\"\"\n",
    "    popRanked: output of rankRoutes()\n",
    "    eliteSize: number of highest ranked individuals we will retain in the next generation.\n",
    "    \n",
    "    This function takes in a population sorted in decreasing order of fitness score, and chooses a mating pool from it.\n",
    "    It returns a list of indices of the chosen mating pool in the given population.\n",
    "    \"\"\"\n",
    "    selectionResults = []\n",
    "    df = pd.DataFrame(np.array(popRanked[eliteSize:]), columns=[\"Index\",\"Fitness\"])\n",
    "    df['cum_sum'] = df.Fitness.cumsum()\n",
    "    df['cum_perc'] = df.cum_sum/df.Fitness.sum()\n",
    "    ### Retaining the best individual in the population. \n",
    "    for i in range(eliteSize):\n",
    "        selectionResults.append(popRanked[i][0])\n",
    "    # weighted random selection\n",
    "    for i in range(eliteSize, len(popRanked)):\n",
    "        pick = random.random()\n",
    "        for j in range(len(popRanked)-eliteSize):\n",
    "            if pick <= df.iat[j,3]:\n",
    "                selectionResults.append(int(df.iat[j,0]))\n",
    "                break\n",
    "    return selectionResults\n",
    "    #YOUR CODE HERE"
   ]
  },
  {
   "cell_type": "markdown",
   "metadata": {
    "id": "N0L4EUmZnp10"
   },
   "source": [
    "Now that we have the IDs of the routes that will make up our mating pool from the selection function, we can create the mating pool. We’re simply extracting the selected individuals from our population."
   ]
  },
  {
   "cell_type": "markdown",
   "metadata": {},
   "source": [
    "**To-do** (1.2)\n",
    "1. Implement `matingPool`. (1 points)"
   ]
  },
  {
   "cell_type": "code",
   "execution_count": 222,
   "metadata": {
    "id": "CTAKhDIjnp11"
   },
   "outputs": [],
   "source": [
    "def matingPool(population, selectionResults):\n",
    "    \"\"\"\n",
    "    This function takes in a population and returns the chosen mating pool, or a list of routes. \n",
    "    \"\"\"\n",
    "    pool_list = []\n",
    "    for i in selectionResults:\n",
    "        pool_list.append(population[i])\n",
    "    return pool_list\n",
    "    #YOUR CODE HERE \n",
    "    "
   ]
  },
  {
   "cell_type": "markdown",
   "metadata": {
    "id": "hBS4jo8xnp11"
   },
   "source": [
    "## Breed\n",
    "With our mating pool created, we can create the next generation in a process called crossover (aka “breeding”). In the GA perceptron problem, individuals were vectors of weights and bias, we could simply pick a crossover point and splice the two lists together to produce an offspring.  \n",
    "However, the TSP is unique in that we need to include all locations exactly one time. To abide by this rule, we can use a special breeding function called ordered crossover. In ordered crossover, we randomly select a subset of the first parent string and then fill the remainder of the route with the genes from the second parent in the order in which they appear, without duplicating any gene positions from the first parent's selected subset. \n",
    "\n",
    "\n",
    "![picture](https://drive.google.com/uc?export=view&id=1EnVVFtafYwaTaNkyFTKHTlxV49ufCwfB)"
   ]
  },
  {
   "cell_type": "markdown",
   "metadata": {},
   "source": [
    "**To-do** (1.3) (6 points)\n",
    "1. Implement `breed`. (3 points)\n",
    "2. Implement `breedPopulation`. (3 points)"
   ]
  },
  {
   "cell_type": "code",
   "execution_count": 232,
   "metadata": {
    "id": "A0GyaS-qnp12"
   },
   "outputs": [],
   "source": [
    "def breed(parent1, parent2):\n",
    "    \"\"\"\n",
    "    This function should breed both parents (routes) and return a child route according to the ordered crossover algorithm  \n",
    "    mentioned above. Please fill in the code to do so.\n",
    "    \"\"\"\n",
    "    child = [-1] * len(parent1)\n",
    "    \n",
    "    subset_start, subset_end = sorted(random.sample(range(len(parent1) + 1), 2))\n",
    "    \n",
    "    child_inherited = []\n",
    "\n",
    "    for i in range(subset_start, subset_end):\n",
    "        child[i] = parent1[i]\n",
    "        child_inherited.append(parent1[i])\n",
    "        \n",
    "    parent1_position, parent2_position = 0, 0\n",
    "    \n",
    "    position = list(range(subset_start, subset_end))       \n",
    "    i = 0\n",
    "    while i < len(parent1):\n",
    "        if i in position:\n",
    "            i += 1\n",
    "            continue\n",
    "        test_child = child[i]\n",
    "        if test_child==-1:\n",
    "            parent2_trait = parent2[parent2_position]\n",
    "            while parent2_trait in child_inherited:\n",
    "                parent2_position += 1\n",
    "                parent2_trait = parent2[parent2_position]\n",
    "            child[i] = parent2_trait\n",
    "            child_inherited.append(parent2_trait)\n",
    "        i +=1\n",
    "    \n",
    "    return child\n",
    "    #YOUR CODE HERE"
   ]
  },
  {
   "cell_type": "markdown",
   "metadata": {
    "id": "hn9ao7H8np12"
   },
   "source": [
    "Next, we’ll generalize this to create our offspring population. "
   ]
  },
  {
   "cell_type": "code",
   "execution_count": 224,
   "metadata": {
    "id": "vOoO-Drfnp13"
   },
   "outputs": [],
   "source": [
    "def breedPopulation(matingpool,eliteSize):\n",
    "    \"\"\"\n",
    "    This function should return the offspring population from the current population using the breed function. It should \n",
    "    retain the eliteSize best routes from the current population. Then it should use the breed function to mate\n",
    "    members of the population, to fill out the rest of the next generation. \n",
    "    You have the freedom to decide how to choose mates for individuals.\n",
    "    \"\"\"\n",
    "    pairs_needed = len(matingpool) - eliteSize\n",
    "    children = []\n",
    "    for i in range(eliteSize + 1):\n",
    "        children.append(matingpool[i])\n",
    "    \n",
    "    for i in range(pairs_needed):\n",
    "        parent1 = random.choice(matingpool)\n",
    "        parent2 = random.choice(matingpool)\n",
    "        children.append(breed(parent1, parent2))\n",
    "    \n",
    "    return children\n",
    "    #YOUR CODE HERE"
   ]
  },
  {
   "cell_type": "markdown",
   "metadata": {
    "id": "MhXwfzDHnp13"
   },
   "source": [
    "## Mutate\n",
    "Mutation serves an important function in GA, as it helps to avoid local convergence by introducing novel routes that will allow us to explore other parts of the solution space. Similar to crossover, the TSP has a special consideration when it comes to mutation. \n",
    "\n",
    "Since we need to abide by our rules, we can’t drop cities, and we can use swap mutation. This means that, with specified low probability, two or more cities will swap places in our route. We’ll do this for one individual in our mutate function. Each individual in the population has a chance to be mutate with probability mutationRate.\n",
    "\n",
    "**To-do**: (1.4)\n",
    "1. Impletement `mutate` and `mutatePopulation`.(3 points)"
   ]
  },
  {
   "cell_type": "code",
   "execution_count": 225,
   "metadata": {
    "id": "S5OvY2D4np14"
   },
   "outputs": [],
   "source": [
    "def mutate(individual, mutationRate):\n",
    "    \"\"\"\n",
    "    This function should take in an individual (route) and return a mutated individual. Assume mutationRate is a probability\n",
    "    between 0 and 1. Use the swap mutation described above to mutate the individual according to the mutationRate. Iterate \n",
    "    through each of the cities and swap it with another city according to the given probability.\n",
    "    \"\"\"\n",
    "    for i in range(len(individual)):\n",
    "        if np.random.random() <= mutationRate:\n",
    "            swap_index = np.random.randint(0, len(individual))\n",
    "            placeholder = individual[i]\n",
    "            individual[i] = individual[swap_index]\n",
    "            individual[swap_index] = placeholder\n",
    "    return individual\n",
    "    #YOUR CODE HERE"
   ]
  },
  {
   "cell_type": "markdown",
   "metadata": {
    "id": "u5Ziu2n4np14"
   },
   "source": [
    "Next, we can extend the mutate function to run through the new population.  \n",
    "Please create a function to run mutation over entire population (except for the elites) and return the new population. The top eliteSize members of the previous population should not be mutated. Each member of the population is mutated with probability mutationRate."
   ]
  },
  {
   "cell_type": "code",
   "execution_count": 239,
   "metadata": {
    "id": "LwzXe2cxnp15"
   },
   "outputs": [],
   "source": [
    "def mutatePopulation(population,mutationRate):\n",
    "    \"\"\"\n",
    "    This function should use the above mutate function to mutate each member of the population. Simply iterate over the \n",
    "    population and mutate each individual using the mutationRate.\n",
    "    \"\"\"\n",
    "    mutatedPop = []\n",
    "    for i in population:\n",
    "        mutatedPop.append(mutate(i, mutationRate))\n",
    "    return mutatedPop\n",
    "    #YOUR CODE HERE"
   ]
  },
  {
   "cell_type": "markdown",
   "metadata": {
    "id": "zQJqNS1cnp15"
   },
   "source": [
    "## Repeat\n",
    "We’re almost there. Let’s pull these pieces together to create a function that produces a new generation. First, we rank the routes in the current generation using `rankRoutes`. We then determine our potential parents by running the `selection` function, which allows us to create the mating pool using the `matingPool` function. Finally, we then create our new generation using the `breedPopulation` function and then applying mutation using the `mutatePopulation` function.\n",
    "\n",
    "**To-do**: (1.5)\n",
    "\n",
    "Impletement `nextGeneration`.(3 points)"
   ]
  },
  {
   "cell_type": "code",
   "execution_count": 235,
   "metadata": {
    "id": "BxsiJKU0np15"
   },
   "outputs": [],
   "source": [
    "def nextGeneration(currentGen, eliteSize, mutationRate):\n",
    "    \"\"\"\n",
    "    This function takes in the current generation, eliteSize and mutationRate and should return the next generation.\n",
    "    Please use all the above defined functions to do so, some hints are in the above paragraph.\n",
    "    \"\"\"\n",
    "    ranked_pop = rankRoutes(currentGen)\n",
    "    selected = selection(ranked_pop, eliteSize)\n",
    "    pool = matingPool(currentGen, selected)\n",
    "    bred_pop = breedPopulation(pool, eliteSize)\n",
    "    nextGeneration = mutatePopulation(bred_pop, mutationRate)\n",
    "\n",
    "    return nextGeneration\n",
    "    #YOUR CODE HERE"
   ]
  },
  {
   "cell_type": "markdown",
   "metadata": {
    "id": "ZwDlXro5np16"
   },
   "source": [
    "## Final step: Evolution in motion\n",
    "We finally have all the pieces in place to create our GA! All we need to do is create the initial population, and then we can loop through as many generations as we desire. Of course we also want to see the best route and how much we’ve improved, so we capture the initial distance in line 3 (remember, distance is the inverse of the fitness), the final distance, and the best route.  \n",
    "\n",
    "\n",
    "**To-do**: (1.6)\n",
    "\n",
    "Implement `geneticAlgorithm` with two stopping mechanisms. One: The algorithm should stop running when the maximum number of generations is reached. Two, stop when the highest fitness from the population hasn't increased for a set number of generations.(This means the algorithm to some extent has converged).  (5 points)\n",
    "\n",
    "The inputs:\n",
    "1. `population` : A list of possible genes. In our case, a list of all `City`s. \n",
    "2. `popSize`: The population size at each generation. \n",
    "3. `eliteSize`: The size of the elite population. \n",
    "4. `mutationRate`: The probabilty of an individual gets mutated. \n",
    "4. `generations`: The maxmium number of generations to run for. \n",
    "5. `max_num_gen_no_improv`: The maxmium number of generations with no improvement is allowed before we stop the algorithm early. \n",
    "\n",
    "The outputs:\n",
    "1. `bestRoute`: The route with the highest fitness score(`bestRoute_list[-1]`). \n",
    "2. `bestRoute_list` : A list of best routes. `bestRoute_list[0]` is the best route from the first generation of population, `bestRoute_list[2]` is the bestRoute from the second generation of population and so on. \n",
    "3. `fitness_record`: A list of the best fitness from each generation. `fitness_record[0]` is the best fitness score from the first generation. \n",
    "\n",
    "Advice for debugging:\n",
    "\n",
    "First, I recommend checking the size of your population in every generation. Your algorthm will not run correctly if the population size changes between generations. Second, plot the `fitness_record` and see if it is increasing monotonically, or the elite population has not been retained properly. "
   ]
  },
  {
   "cell_type": "code",
   "execution_count": 241,
   "metadata": {
    "id": "h3U_c7lqb-x6"
   },
   "outputs": [],
   "source": [
    "def geneticAlgorithm(population, popSize, eliteSize, mutationRate, generations, max_num_gen_no_improv):\n",
    "    \"\"\"\n",
    "    This function creates an initial population, then runs the genetic algorithm according to the given parameters. \n",
    "    \"\"\"\n",
    "    pop = initialPopulation(popSize, population)\n",
    "    init_rank = rankRoutes(pop)\n",
    "    print(\"Initial distance: \" + str(1 / init_rank[0][1]))\n",
    "    fitness_record = [init_rank[0][1]]\n",
    "    bestRoute_list = [pop[init_rank[0][0]]]\n",
    "    \n",
    "    for i in range(generations):\n",
    "        if len(fitness_record) >= max_num_gen_no_improv and fitness_record[-1] == fitness_record[0 - max_num_gen_no_improv]:\n",
    "            break\n",
    "        pop = nextGeneration(pop, eliteSize, mutationRate)\n",
    "        pop_rank = rankRoutes(pop)\n",
    "        fitness_record.append(pop_rank[0][1])\n",
    "        bestRoute_list.append(pop[pop_rank[0][0]])\n",
    "    \n",
    "    bestRoute = bestRoute_list[-1]\n",
    "    \n",
    "    print(\"Final distance: \" + str(1 / fitness_record[-1]))\n",
    "    return bestRoute, bestRoute_list, fitness_record\n",
    "    #YOUR CODE HERE"
   ]
  },
  {
   "cell_type": "markdown",
   "metadata": {
    "id": "k0E1VD-fnp16"
   },
   "source": [
    "## Running the genetic algorithm"
   ]
  },
  {
   "cell_type": "markdown",
   "metadata": {
    "id": "RypKthO9np17"
   },
   "source": [
    "With everything in place, solving the TSP is as easy as two steps:  \n",
    "First, we need a list of cities to travel between. For this demonstration, we’ll use the list of 99 biggest cities (excluding Honolulu) of United States (brute force would have to test over $10^{153}$ routes!):\n",
    "![picture](https://drive.google.com/uc?export=view&id=1csbL4ncv_62nab477F9ifPslx3K13bfJ)"
   ]
  },
  {
   "cell_type": "markdown",
   "metadata": {
    "id": "FH4cR7Gunp17"
   },
   "source": [
    "## Create the City list\n",
    "You need to put all the 99 cities as city objects in the cityList array. We will use the last column Coordinates to calculate the distance between all the cities. And for convenience we will multiply all the coordinates by 100. For example, for New York, it would be  \n",
    "NewYork= City( int(40.71 * 100), int( -74.00 * 100))  \n",
    "And then you can put `cityList.append(NewYork)`"
   ]
  },
  {
   "cell_type": "markdown",
   "metadata": {
    "id": "Bvh_Zm7Inp18"
   },
   "source": [
    "Here is the sample code of calculating the path to travel top 5 cities of U.S."
   ]
  },
  {
   "cell_type": "code",
   "execution_count": 237,
   "metadata": {
    "id": "eyL2IDE9np18"
   },
   "outputs": [],
   "source": [
    "cityList = []\n",
    "NewYork= City( int(40.71 * 100), int( -74.00 * 100)) \n",
    "LA= City(3405,-11824) \n",
    "Chicago=City(4187,-8762)\n",
    "Houston=City(2976,-9536)\n",
    "Philly=City(3995,-7516)\n",
    "cityList.append(NewYork)\n",
    "cityList.append(LA)\n",
    "cityList.append(Chicago)\n",
    "cityList.append(Houston)\n",
    "cityList.append(Philly)"
   ]
  },
  {
   "cell_type": "markdown",
   "metadata": {
    "id": "0oE8AmDVnp18"
   },
   "source": [
    "Then, running the genetic algorithm is one simple line of code. This is where art meets science; you should see which assumptions work best for you. In this example, we have 300 individuals in each generation, keep 20 elite individuals, use a 1% mutation rate for a given gene, and run through 30 generations with no early stopping (`max_num_gen_no_improv` = 9999):\n",
    "\n",
    "**To-do**:(1.7)\n",
    "\n",
    "Use GA to find the ideal traveling path to top 5 cities of U.S. Print the optimal path(`bestRoute`).(1 point)"
   ]
  },
  {
   "cell_type": "code",
   "execution_count": 260,
   "metadata": {
    "colab": {
     "base_uri": "https://localhost:8080/"
    },
    "id": "jtIUFXqpnp18",
    "outputId": "0b123a44-b749-4cd9-acdd-9989fbe2e1b5"
   },
   "outputs": [
    {
     "name": "stdout",
     "output_type": "stream",
     "text": [
      "Initial distance: 9256.22933537916\n",
      "Final distance: 9256.22933537916\n",
      "[(4071,-7400), (4187,-8762), (3405,-11824), (2976,-9536), (3995,-7516)]\n"
     ]
    }
   ],
   "source": [
    "print(geneticAlgorithm(cityList, 300, 20, .01, 30, 9999)[0])\n",
    "### YOUR CODE HERE"
   ]
  },
  {
   "cell_type": "markdown",
   "metadata": {
    "id": "E7km8LRMnp1-"
   },
   "source": [
    "Therefore, the ideal path to travel is New York - Chicago - LA - Houston - Philly -New York\n",
    "Or Chicago - LA - Houston - Philly - New York - Chicago etc.   \n",
    "(They are the same, just the starting point is random and could be different)"
   ]
  },
  {
   "cell_type": "markdown",
   "metadata": {
    "id": "gWm7xnj6np1-"
   },
   "source": [
    "## Visualize the result path"
   ]
  },
  {
   "cell_type": "code",
   "execution_count": 261,
   "metadata": {
    "id": "SxViJnzFnp1_",
    "outputId": "d6311d1d-e8a7-4e7a-f90e-cf226e1a1f26"
   },
   "outputs": [
    {
     "data": {
      "image/png": "[encoded data removed]",
      "text/plain": [
       "<Figure size 432x288 with 1 Axes>"
      ]
     },
     "metadata": {
      "needs_background": "light"
     },
     "output_type": "display_data"
    }
   ],
   "source": [
    "#Plotting\n",
    "fig, ax1 = plt.subplots(ncols=1)\n",
    "y=[4071,4187,3405,2976,3995]\n",
    "x=[-7400,-8762,-11824,-9536,-7516]\n",
    "n=['New York','Chicago',\"LA\",\"Houston\",\"Philly\"]\n",
    "ax1.plot(x, y, marker=\"o\", markerfacecolor=\"r\")\n",
    "for i, txt in enumerate(n):\n",
    "    ax1.annotate(txt, (x[i], y[i]))"
   ]
  },
  {
   "cell_type": "markdown",
   "metadata": {
    "id": "UnPgqxbTnp1_"
   },
   "source": [
    "# Your Turn\n",
    "Now write the code to calculate the ideal path for traveling the top 99 cities of U.S."
   ]
  },
  {
   "cell_type": "code",
   "execution_count": 272,
   "metadata": {},
   "outputs": [
    {
     "name": "stdout",
     "output_type": "stream",
     "text": [
      "96\n"
     ]
    }
   ],
   "source": [
    "NewYork=City(4069, -7392)\n",
    "LosAngeles=City(3411, -11841)\n",
    "Chicago=City(4184, -8769)\n",
    "Miami=City(2578, -8021)\n",
    "Dallas=City(3279, -9677)\n",
    "Philadelphia=City(4001, -7513)\n",
    "Houston=City(2979, -9539)\n",
    "Atlanta=City(3376, -8442)\n",
    "Washington=City(3890, -7702)\n",
    "Boston=City(4232, -7108)\n",
    "Phoenix=City(3357, -11209)\n",
    "Seattle=City(4762, -12232)\n",
    "SanFrancisco=City(3776, -12244)\n",
    "Detroit=City(4238, -8310)\n",
    "SanDiego=City(3283, -11712)\n",
    "Minneapolis=City(4496, -9327)\n",
    "Tampa=City(2799, -8245)\n",
    "Denver=City(3976, -10488)\n",
    "Brooklyn=City(4065, -7395)\n",
    "Queens=City(4075, -7380)\n",
    "Riverside=City(3394, -11739)\n",
    "Baltimore=City(3931, -7661)\n",
    "LasVegas=City(3623, -11527)\n",
    "Portland=City(4554, -12265)\n",
    "SanAntonio=City(2947, -9853)\n",
    "StLouis=City(3864, -9025)\n",
    "Sacramento=City(3857, -12147)\n",
    "Orlando=City(2848, -8134)\n",
    "SanJose=City(3730, -12185)\n",
    "Cleveland=City(4148, -8168)\n",
    "Pittsburgh=City(4044, -7998)\n",
    "Austin=City(3030, -9775)\n",
    "Cincinnati=City(3914, -8451)\n",
    "KansasCity=City(3912, -9455)\n",
    "Manhattan=City(4078, -7397)\n",
    "Indianapolis=City(3978, -8615)\n",
    "Columbus=City(3999, -8299)\n",
    "Charlotte=City(3521, -8083)\n",
    "VirginiaBeach=City(3673, -7604)\n",
    "Bronx=City(4085, -7387)\n",
    "Milwaukee=City(4306, -8797)\n",
    "Providence=City(4182, -7142)\n",
    "Jacksonville=City(3033, -8167)\n",
    "SaltLakeCity=City(4078, -11193)\n",
    "Nashville=City(3617, -8678)\n",
    "Richmond=City(3753, -7748)\n",
    "Memphis=City(3510, -8998)\n",
    "Raleigh=City(3583, -7864)\n",
    "NewOrleans=City(3007, -8993)\n",
    "Louisville=City(3817, -8565)\n",
    "OklahomaCity=City(3547, -9751)\n",
    "Bridgeport=City(4119, -7320)\n",
    "Buffalo=City(4290, -7885)\n",
    "FortWorth=City(3278, -9735)\n",
    "Hartford=City(4177, -7268)\n",
    "Tucson=City(3215, -11088)\n",
    "Omaha=City(4126, -9605)\n",
    "ElPaso=City(3185, -10643)\n",
    "McAllen=City(2623, -9825)\n",
    "Albuquerque=City(3511, -10665)\n",
    "Birmingham=City(3353, -8680)\n",
    "Sarasota=City(2734, -8254)\n",
    "Dayton=City(3978, -8420)\n",
    "Rochester=City(4317, -7762)\n",
    "Fresno=City(3678, -11979)\n",
    "Allentown=City(4060, -7548)\n",
    "Tulsa=City(3613, -9590)\n",
    "CapeCoral=City(2664, -8200)\n",
    "Concord=City(3797, -12200)\n",
    "ColoradoSprings=City(3887, -10476)\n",
    "Charleston=City(3282, -7996)\n",
    "Springfield=City(4212, -7254)\n",
    "GrandRapids=City(4296, -8566)\n",
    "MissionViejo=City(3361, -11766)\n",
    "Albany=City(4267, -7380)\n",
    "Knoxville=City(3597, -8395)\n",
    "Bakersfield=City(3535, -11904)\n",
    "Ogden=City(4123, -11197)\n",
    "BatonRouge=City(3044, -9113)\n",
    "Akron=City(4108, -8152)\n",
    "NewHaven=City(4131, -7292)\n",
    "Columbia=City(3404, -8090)\n",
    "Mesa=City(3340, -11172)\n",
    "PalmBay=City(2796, -8066)\n",
    "Provo=City(4025, -11165)\n",
    "Worcester=City(4227, -7181)\n",
    "Murrieta=City(3357, -11719)\n",
    "Greenville=City(3484, -8236)\n",
    "Wichita=City(3769, -9734)\n",
    "Toledo=City(4166, -8358)\n",
    "StatenIsland=City(4058, -7415)\n",
    "DesMoines=City(4157, -9361)\n",
    "LongBeach=City(3380, -11817)\n",
    "PortStLucie=City(2728, -8039)\n",
    "Denton=City(3322, -9714)\n",
    "Madison=City(4308, -8939)\n",
    "cityList= []\n",
    "cityList.append(NewYork)\n",
    "cityList.append(LosAngeles)\n",
    "cityList.append(Chicago)\n",
    "cityList.append(Miami)\n",
    "cityList.append(Dallas)\n",
    "cityList.append(Philadelphia)\n",
    "cityList.append(Houston)\n",
    "cityList.append(Atlanta)\n",
    "cityList.append(Washington)\n",
    "cityList.append(Boston)\n",
    "cityList.append(Phoenix)\n",
    "cityList.append(Seattle)\n",
    "cityList.append(SanFrancisco)\n",
    "cityList.append(Detroit)\n",
    "cityList.append(SanDiego)\n",
    "cityList.append(Minneapolis)\n",
    "cityList.append(Tampa)\n",
    "cityList.append(Denver)\n",
    "cityList.append(Brooklyn)\n",
    "cityList.append(Queens)\n",
    "cityList.append(Riverside)\n",
    "cityList.append(Baltimore)\n",
    "cityList.append(LasVegas)\n",
    "cityList.append(Portland)\n",
    "cityList.append(SanAntonio)\n",
    "cityList.append(StLouis)\n",
    "cityList.append(Sacramento)\n",
    "cityList.append(Orlando)\n",
    "cityList.append(SanJose)\n",
    "cityList.append(Cleveland)\n",
    "cityList.append(Pittsburgh)\n",
    "cityList.append(Austin)\n",
    "cityList.append(Cincinnati)\n",
    "cityList.append(KansasCity)\n",
    "cityList.append(Manhattan)\n",
    "cityList.append(Indianapolis)\n",
    "cityList.append(Columbus)\n",
    "cityList.append(Charlotte)\n",
    "cityList.append(VirginiaBeach)\n",
    "cityList.append(Bronx)\n",
    "cityList.append(Milwaukee)\n",
    "cityList.append(Providence)\n",
    "cityList.append(Jacksonville)\n",
    "cityList.append(SaltLakeCity)\n",
    "cityList.append(Nashville)\n",
    "cityList.append(Richmond)\n",
    "cityList.append(Memphis)\n",
    "cityList.append(Raleigh)\n",
    "cityList.append(NewOrleans)\n",
    "cityList.append(Louisville)\n",
    "cityList.append(OklahomaCity)\n",
    "cityList.append(Bridgeport)\n",
    "cityList.append(Buffalo)\n",
    "cityList.append(FortWorth)\n",
    "cityList.append(Hartford)\n",
    "cityList.append(Tucson)\n",
    "cityList.append(Omaha)\n",
    "cityList.append(ElPaso)\n",
    "cityList.append(McAllen)\n",
    "cityList.append(Albuquerque)\n",
    "cityList.append(Birmingham)\n",
    "cityList.append(Sarasota)\n",
    "cityList.append(Dayton)\n",
    "cityList.append(Rochester)\n",
    "cityList.append(Fresno)\n",
    "cityList.append(Allentown)\n",
    "cityList.append(Tulsa)\n",
    "cityList.append(CapeCoral)\n",
    "cityList.append(Concord)\n",
    "cityList.append(ColoradoSprings)\n",
    "cityList.append(Charleston)\n",
    "cityList.append(Springfield)\n",
    "cityList.append(GrandRapids)\n",
    "cityList.append(MissionViejo)\n",
    "cityList.append(Albany)\n",
    "cityList.append(Knoxville)\n",
    "cityList.append(Bakersfield)\n",
    "cityList.append(Ogden)\n",
    "cityList.append(BatonRouge)\n",
    "cityList.append(Akron)\n",
    "cityList.append(NewHaven)\n",
    "cityList.append(Columbia)\n",
    "cityList.append(Mesa)\n",
    "cityList.append(PalmBay)\n",
    "cityList.append(Provo)\n",
    "cityList.append(Worcester)\n",
    "cityList.append(Murrieta)\n",
    "cityList.append(Greenville)\n",
    "cityList.append(Wichita)\n",
    "cityList.append(Toledo)\n",
    "cityList.append(StatenIsland)\n",
    "cityList.append(DesMoines)\n",
    "cityList.append(LongBeach)\n",
    "cityList.append(PortStLucie)\n",
    "cityList.append(Denton)\n",
    "cityList.append(Madison)\n",
    "city_l = cityList\n",
    "print(len(city_l))"
   ]
  },
  {
   "cell_type": "markdown",
   "metadata": {},
   "source": [
    "**To-do:** (1.8) (5 points)\n",
    "\n",
    "(1) Use GA to find an ideal traveling path. (4 points)\n",
    "\n",
    "We recommand the following settings. Feel free to apply settings beyond the recommended values:\n",
    "\n",
    "1. `popSize` : 200 - 1000\n",
    "2. `eliteSize`: 0.1 * `popSize`\n",
    "3. `mutationRate`: 0.01 - 0.05\n",
    "4. `generation`: < 2000 (or computation time might take longer than an hour)\n",
    "5. `max_num_gen_no_improv`: >25 \n",
    "\n",
    "(2) Plot the best route. (1 point)\n",
    "\n",
    "Optional: Generate an animation of the evolution of the individuals using `make_animation`.  The saved .gif file will be inside the folder where your notebook is located.\n"
   ]
  },
  {
   "cell_type": "code",
   "execution_count": 274,
   "metadata": {},
   "outputs": [
    {
     "name": "stdout",
     "output_type": "stream",
     "text": [
      "Initial distance: 162223.7313841947\n",
      "Final distance: 130546.34198166487\n"
     ]
    },
    {
     "data": {
      "text/plain": [
       "[<matplotlib.lines.Line2D at 0x7f422b94fbe0>]"
      ]
     },
     "execution_count": 274,
     "metadata": {},
     "output_type": "execute_result"
    },
    {
     "data": {
      "image/png": "[encoded data removed]",
      "text/plain": [
       "<Figure size 432x288 with 1 Axes>"
      ]
     },
     "metadata": {
      "needs_background": "light"
     },
     "output_type": "display_data"
    }
   ],
   "source": [
    "#YOUR CODE HERE\n",
    "\n",
    "# For plotting:\n",
    "best_route = geneticAlgorithm(cityList, 200, 20, .01, 100, 30)[0]\n",
    "fig,ax = plt.subplots()\n",
    "ax.set_xlim([2500,4900])\n",
    "ax.set_ylim([-13000,-6000])\n",
    "x=[]\n",
    "for i in best_route:\n",
    "    x.append(i.x)\n",
    "y=[]\n",
    "for i in best_route:\n",
    "    y.append(i.y) \n",
    "ax.plot(x, y, marker=\"o\", markerfacecolor=\"r\")"
   ]
  },
  {
   "cell_type": "code",
   "execution_count": null,
   "metadata": {
    "scrolled": false
   },
   "outputs": [],
   "source": [
    "def make_animation(route_list,fitness_record, Name =\"Your Name\"):\n",
    "    \n",
    "    '''\n",
    "    Input:  route_list : A list of routes. Its lenghth is the number of generations.\n",
    "            fitness_record: A list of fitness scores. Its length is also the number of generations.\n",
    "    \n",
    "    '''\n",
    "    \n",
    "    fig,ax = plt.subplots()\n",
    "    ax.set_xlim([2500,4900])\n",
    "    ax.set_ylim([-13000,-6000])\n",
    "\n",
    "    if len(route_list)<=50:\n",
    "        divisor = 1 \n",
    "    else:\n",
    "        divisor= len(route_list)//50\n",
    "    def initial():\n",
    "        ax.set_xlim([2500,4900])\n",
    "        ax.set_ylim([-13000,-6000])\n",
    "        route_plot, = ax.plot([], [], marker=\"o\", markerfacecolor=\"r\")\n",
    "        return route_plot,\n",
    "    def update(n):\n",
    "        x=[]\n",
    "        if n >= (len(route_list)//divisor):\n",
    "            for i in route_list[-1]:\n",
    "                x.append(i.x)\n",
    "            y=[]\n",
    "            for i in route_list[-1]:\n",
    "                y.append(i.y) \n",
    "        else:\n",
    "            print(f\"Producing plot for generation: {int(np.floor(n*divisor))}\", end='\\r')\n",
    "            for i in route_list[int(np.floor(n*divisor))]:\n",
    "                x.append(i.x)\n",
    "            y=[]\n",
    "            for i in route_list[int(np.floor(n*divisor))]:\n",
    "                y.append(i.y)  \n",
    "\n",
    "        ax = plt.axes(xlim=(2500,4900), ylim=(-13000,-6000))\n",
    "\n",
    "        route_plot, = ax.plot(x, y, marker=\"o\", markerfacecolor=\"r\")\n",
    "        ax.set_title(f\"Solving traveling salesman problem using genetic algorithms ({Name})\")\n",
    "        route_plot.set_label(f\"Generation: {int(np.floor(n*divisor))} Distance : {1 / fitness_record[int(np.floor(n*divisor))]}\")\n",
    "        ax.legend()\n",
    "\n",
    "        return route_plot,\n",
    "    anim = animation.FuncAnimation(fig, update, init_func=None, frames=int(len(route_list)//divisor), blit=True)    \n",
    "\n",
    "\n",
    "    anim.save('animation.gif', fps=4, writer=\"avconv\", codec=\"libx264\",dpi=600)\n",
    "    "
   ]
  },
  {
   "cell_type": "markdown",
   "metadata": {},
   "source": [
    "### Extra credit (1.9)   (4 points): \n",
    "A greedy algorithm is an algorithm that chooses the \"most attractive\" option at every iteration. For the TSP, the greedy algorithm will produce a route by always appending the city that is the closest to the current city. It is a very intuitive and a fast algorithm, but it does not produce the most optimal result. Below is the code for the greedy algorithm that will produce an sub-optimal route. Your challenge is to produce a route using GA that has a shorter overall distance than the output from the greedy algorithm. Remeber that distance is the inverse of the fitness."
   ]
  },
  {
   "cell_type": "markdown",
   "metadata": {},
   "source": [
    "**To-do:**\n",
    "\n",
    "Plot your route and its overall distance. "
   ]
  },
  {
   "cell_type": "code",
   "execution_count": null,
   "metadata": {
    "id": "UVvu_tzWj5UG"
   },
   "outputs": [],
   "source": [
    "def greedy(cityList):\n",
    "    mindist = 1E10\n",
    "    minr = None\n",
    "    for ind in range(len(cityList)):\n",
    "        copy = cityList*1\n",
    "        out = []\n",
    "        out.append(copy[ind])\n",
    "        copy.pop(ind)\n",
    "        for i in range(len(cityList)-1):\n",
    "            distances = {}\n",
    "            for j in range(len(copy)):\n",
    "                distances[j] = out[-1].distance(copy[j])\n",
    "            s = sorted(distances.items(), key = operator.itemgetter(1), reverse = False)\n",
    "            out.append(copy[s[0][0]])\n",
    "            copy.pop(s[0][0])\n",
    "        f = Fitness(out)\n",
    "        if f.routeDistance() < mindist:\n",
    "            mindist = f.routeDistance()\n",
    "            mindr = f.route\n",
    "    return mindist,mindr\n",
    "dis,r = greedy(city_l)     \n",
    "print(\"The shortest route distance using a greedy algorithm : \",dis)"
   ]
  },
  {
   "cell_type": "markdown",
   "metadata": {},
   "source": [
    "## Conclusion\n",
    "I hope this was a fun, hands-on assignment to continue with GA practice.If you want to take this to the next step try to implement a GA on another problem set; see how you would change the breed and mutate functions to handle other types of chromosomes. We’re just scratching the surface here!\n",
    "\n",
    "## Submission\n",
    "Please submit your notebook as well as its PDF copy on Gradescope. Make sure all of the outputs are clear visable in the PDF copy. "
   ]
  }
 ],
 "metadata": {
  "colab": {
   "collapsed_sections": [],
   "name": "COGS 160 Assignment 2 Final.ipynb",
   "provenance": []
  },
  "kernelspec": {
   "display_name": "Python 3 (ipykernel)",
   "language": "python",
   "name": "python3"
  },
  "language_info": {
   "codemirror_mode": {
    "name": "ipython",
    "version": 3
   },
   "file_extension": ".py",
   "mimetype": "text/x-python",
   "name": "python",
   "nbconvert_exporter": "python",
   "pygments_lexer": "ipython3",
   "version": "3.9.5"
  },
  "vscode": {
   "interpreter": {
    "hash": "77eee26a74623a023872d1bc89eff3417ddfa96c1608d48d76f7b381bf2c2567"
   }
  }
 },
 "nbformat": 4,
 "nbformat_minor": 1
}
