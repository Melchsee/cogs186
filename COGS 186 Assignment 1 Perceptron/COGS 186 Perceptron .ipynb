{
 "cells": [
  {
   "cell_type": "markdown",
   "metadata": {
    "id": "huZGNHX2oCP3"
   },
   "source": [
    "# Training Perceptron with Genetic Algorithm\n",
    "# Introduction\n",
    "The problem:\n",
    "In this assignment, we’ll be using both a Genetic Algorithm and Perceptron to perform binary classification on a breast cancer dataset. We will do the classification by finding a hyperplane which separates the data points of the two different classes, and we will compare the results of these two approaches. \n",
    "\n",
    "We have provided code stubs in this notebook to get you started, and give hints about the structure of the code.\n",
    "\n",
    "You need to compare the performance of 2 algorithms on the dataset:\n",
    "- Genetic Algorithm with variations as described later\n",
    "- Perceptron Algorithm which you will code\n",
    "\n",
    "You will need to submit a report along with the finished Jupyter notebook in which you should report the performances in the form of tables as well as plots.\n",
    "\n",
    "![picture](https://drive.google.com/uc?export=view&id=1wRUX0I803AvXbbkWiD1r4_MKuE3mBQdr)"
   ]
  },
  {
   "cell_type": "markdown",
   "metadata": {
    "id": "2x3dhftEoFSH"
   },
   "source": [
    "## Approach:  \n",
    "Let’s start with a few definitions.\n",
    "- Individual (aka “chromosome”): a plane in space. It is specified by a weight vector and a bias.\n",
    "- Population: a collection of possible planes (i.e., collection of individuals)\n",
    "- Parents: two planes that are combined to create a new plane\n",
    "- Mating pool: a collection of parents that are used to create our next population (thus creating the next generation of plane)\n",
    "- Fitness: a function that tells us how good each plane is (in our case, how effectively the plane separates the dataset)\n",
    "- Mutation: a way to introduce variation in our population by randomly modifying values of the plane's coefficients\n",
    "- Elitism: a way to carry the best individuals into the next generation    \n",
    "  \n",
    "Our GA will proceed in the following steps:\n",
    "- 1. Create the population\n",
    "- 2. Rank the population according to fitness in decreasing order\n",
    "- 3. Select the mating pool\n",
    "- 4. Breed\n",
    "- 5. Mutate to create the next generation\n",
    "- 6. Repeat  \n",
    "Now, let’s see this in action."
   ]
  },
  {
   "cell_type": "code",
   "execution_count": 423,
   "metadata": {
    "id": "9EPZGz49CaDN"
   },
   "outputs": [],
   "source": [
    "import numpy as np, random, operator, pandas as pd, matplotlib.pyplot as plt\n",
    "import operator\n",
    "import math\n",
    "from sklearn.datasets import load_breast_cancer\n",
    "import sklearn\n",
    "from sklearn.metrics import accuracy_score\n",
    "from sklearn.model_selection import train_test_split"
   ]
  },
  {
   "cell_type": "code",
   "execution_count": 424,
   "metadata": {
    "id": "US85-JgZCd1E"
   },
   "outputs": [],
   "source": [
    "maxweight = 100.0 # This constant will be used to generate random weights and biases for planes"
   ]
  },
  {
   "cell_type": "markdown",
   "metadata": {
    "id": "8Eh5V4wAVtF7"
   },
   "source": [
    "Here we load the dataset. It is a `(N, dim)` matrix containing a set of points in 30-dimensional space"
   ]
  },
  {
   "cell_type": "code",
   "execution_count": 425,
   "metadata": {
    "id": "cPp5MeaMviWT"
   },
   "outputs": [
    {
     "name": "stdout",
     "output_type": "stream",
     "text": [
      "Shape of our dataset:  (569, 30)\n"
     ]
    }
   ],
   "source": [
    "breast_cancer = sklearn.datasets.load_breast_cancer()\n",
    "\n",
    "dataset = breast_cancer.data\n",
    "print(\"Shape of our dataset: \", dataset.shape)\n",
    "dim = dataset.shape[1] # Dimension of each sample in the dataset\n",
    "\n",
    "targets = breast_cancer.target   # Our labels\n"
   ]
  },
  {
   "cell_type": "markdown",
   "metadata": {
    "id": "QzRQPa5kn3XF"
   },
   "source": [
    "We separate the data into X_train, X_test, Y_train, and Y_test using `train_test_split`."
   ]
  },
  {
   "cell_type": "code",
   "execution_count": 426,
   "metadata": {
    "id": "q0mMWI4rSyAi"
   },
   "outputs": [],
   "source": [
    "X_train, X_test, Y_train, Y_test = train_test_split(dataset, targets, test_size = 0.2, stratify = targets, shuffle=True)"
   ]
  },
  {
   "cell_type": "markdown",
   "metadata": {
    "id": "OIGa0Z7jlVDp"
   },
   "source": [
    "## Create necessary classes and functions\n",
    "We first create a Plane class that will allow us to create and handle our planes. Again, these are represented by the w vector, and the b value. Within the Plane class, there is a `predictset` method, which generates predictions based on this plane and a given set of points.\n",
    "\n",
    "For each point, if $x_{1}w_{1} + x_{2}w_{2} +...x_{dim}w_{dim} + b = x\\cdot w + b > 0 $, we predict the point to have a label of 1. Otherwise, we predict the point to have a label of 0.\n",
    "\n",
    "We have two fitness method. One of them finds the number of points that are correctly classified with this `Plane`. The other one should take the inverse of the sum of the distance of the misclassified vectors. In both cases, a larger fitness score is better. \n",
    "\n",
    "The `accuracy` method will run predictions and then determine the accuracy of those predictions. "
   ]
  },
  {
   "cell_type": "markdown",
   "metadata": {},
   "source": [
    "**To-do** (1.1) (3 points)\n",
    "1. Complete `fitness_numcorrect` method. (1 point)\n",
    "2. Complete `perceptron_fitness` method. (1 point)\n",
    "3. Complete `accuracy` method. (1 point)"
   ]
  },
  {
   "cell_type": "code",
   "execution_count": 485,
   "metadata": {
    "id": "uBPpcWSkCfxU"
   },
   "outputs": [],
   "source": [
    "class Plane:\n",
    "    def __init__(self, w, b):\n",
    "        \"\"\"\n",
    "        w : Weight vector of size (dim,)\n",
    "        b : Bias (float)\n",
    "        \"\"\"\n",
    "        self.w = w\n",
    "        self.b = b\n",
    "    \n",
    "    def __repr__(self):\n",
    "        return ' '.join([str(x) for x in np.append(self.w, self.b)])\n",
    "        \n",
    "    def predictset(self, points):\n",
    "        \"\"\"\n",
    "        points: Matrix containing set of points of size (n, dim)\n",
    "        This function returns predictions for multiple examples\n",
    "        \"\"\"\n",
    "        return np.where((np.dot(points , self.w) + self.b) > 0,1,0)\n",
    "    \n",
    "    def fitness_numcorrect(self, data, targets):\n",
    "        \"\"\"\n",
    "        data : n x dim matrix\n",
    "        targets : n x 1 matrix of 0's and 1's representing the ground truth classification\n",
    "        output: An integer value. \n",
    "        Our first fitness function is defined to be the number of correctly classified points in the training dataset. \n",
    "        \"\"\"\n",
    "        predictions = self.predictset(data)\n",
    "        correct = 0\n",
    "        for i in range(len(targets)):\n",
    "            if predictions[i] == targets[i]:\n",
    "                correct += 1\n",
    "        return correct\n",
    "        #YOUR CODE HERE\n",
    "\n",
    "    def perceptron_fitness(self, data, targets):\n",
    "        \"\"\"\n",
    "        This is the 2nd fitness function which you should implement from the Perceptron\n",
    "        lecture slides.\n",
    "        \n",
    "        \"\"\"\n",
    "        distance = 0\n",
    "        for i in range(len(targets)):\n",
    "            distance += Y_train[i] * (self.b + np.dot(data[i], self.w))\n",
    "        return (-1/distance)\n",
    "        #YOUR CODE HERE\n",
    "\n",
    "    def fitness(self, data, targets, fitness_type):\n",
    "        \"\"\"\n",
    "        Wrapper function for fitness.\n",
    "        fitness_type is a string specifying which fitness function to use.\n",
    "        \"\"\"\n",
    "        if fitness_type == \"numcorrect\":\n",
    "            return self.fitness_numcorrect(data, targets)\n",
    "        elif fitness_type == \"perceptron_fitness\":\n",
    "            return self.perceptron_fitness(data, targets)\n",
    "\n",
    "        print(\"Invalid fitness type\")\n",
    "\n",
    "    def accuracy(self, data, targets):\n",
    "        \"\"\"\n",
    "        data : n x dim matrix\n",
    "        targets : n x 1 matrix of 0's and 1's representing the ground truth classification\n",
    "        This function should return the accuracy of the plane on the dataset\n",
    "        \"\"\"\n",
    "        return self.fitness_numcorrect(data, targets)/len(targets)\n",
    "        #YOUR CODE HERE\n",
    "      "
   ]
  },
  {
   "cell_type": "markdown",
   "metadata": {
    "id": "nDsKcZzwmUoc"
   },
   "source": [
    "## Create our initial population\n",
    "Plane generator.  \n",
    "We now can make our initial population (aka first generation). To do so, we need a way to create a function that produces random planes. To create an individual, we randomly select the weights of the plane equation. Even though we are starting out with a completely random initial population, there is still a chance for convergence. \n",
    "\n",
    "The first function here produces one random individual, and in the next function, we create the whole initial population by repeatedly calling randomPlane()."
   ]
  },
  {
   "cell_type": "markdown",
   "metadata": {},
   "source": [
    "**To-do** (1.2) (4 points)\n",
    "1. Complete `randomPlane` function. `np.random.rand()` might be useful here. (1 point) \n",
    "\n",
    "2. Complete `initialPopulation` function. (1 point)"
   ]
  },
  {
   "cell_type": "code",
   "execution_count": 428,
   "metadata": {
    "cellView": "code",
    "id": "NUK0PhKOiWcw"
   },
   "outputs": [],
   "source": [
    "def randomPlane():\n",
    "    \"\"\"\n",
    "    Creates a random hyperplane. The components are uniformly selected at random\n",
    "    from -maxweight to maxweight\n",
    "    \n",
    "    input: None\n",
    "    output: Plane class object \n",
    "    \"\"\"\n",
    "    rand_weights = np.random.uniform(low = -maxweight, high = maxweight, size = dim)\n",
    "    rand_bias = np.random.uniform(low = -maxweight, high = maxweight)\n",
    "    plane = Plane(rand_weights, rand_bias)\n",
    "    return plane\n",
    "    #YOUR CODE HERE\n",
    "def initialPopulation(popSize):\n",
    "    \"\"\"\n",
    "    Create inital population of a given size.\n",
    "    Returns a list of random planes\n",
    "    \"\"\"\n",
    "    pop_list = []\n",
    "    for i in range(popSize):\n",
    "        pop = randomPlane()\n",
    "        pop_list.append(pop)\n",
    "    return pop_list\n",
    "    #YOUR CODE HERE"
   ]
  },
  {
   "cell_type": "markdown",
   "metadata": {
    "id": "CMZ6BeRLmwvM"
   },
   "source": [
    "Note: we only have to use these functions to create the initial population. Subsequent generations will be produced through breeding and mutation."
   ]
  },
  {
   "cell_type": "markdown",
   "metadata": {
    "id": "kCefUR4Cm88E"
   },
   "source": [
    "## Create the genetic algorithm - Rank by Fitness\n",
    "Rank individuals  \n",
    "Next, the evolutionary fun begins. To simulate our “survival of the fittest”, we can make use of Fitness to rank each individual in the population. Our output will be an ordered list with the plane IDs and each associated fitness score."
   ]
  },
  {
   "cell_type": "code",
   "execution_count": 429,
   "metadata": {
    "id": "p992sxalklSG"
   },
   "outputs": [],
   "source": [
    "def rankPopulation(population, fitness_type=\"numcorrect\"):\n",
    "    \"\"\"\n",
    "    This function sorts the given population in decreasing order of the fitness score.\n",
    "    Returns a list of ordered pairs of (index, fitness) where index is the index of the\n",
    "    individual within the population\n",
    "    \"\"\"\n",
    "    fitnessResults = {}\n",
    "    for i in range(0,len(population)):\n",
    "        fitnessResults[i] = population[i].fitness(X_train, Y_train,fitness_type)\n",
    "    return sorted(fitnessResults.items(), key = operator.itemgetter(1), reverse = True)"
   ]
  },
  {
   "cell_type": "markdown",
   "metadata": {
    "id": "0aRELe_tohg3"
   },
   "source": [
    "## Select the mating pool\n",
    "There are a few options for how to select the parents that will be used to create the next generation. The most common approaches are either fitness proportionate selection (aka “roulette wheel selection”) or tournament selection:\n",
    "- Fitness proportionate selection: The fitness of each individual relative to the population is used to assign a probability of selection. Think of this as the fitness-weighted probability of being selected.\n",
    "- Tournament selection: A set number of individuals are randomly selected from the population and the one with the highest fitness in the group is chosen as the first parent. This is repeated to chose the second parent.  \n",
    "\n",
    "Another design feature to consider is the use of elitism. With elitism, the best performing individuals from the population will automatically carry over to the next generation, ensuring that the most successful individuals persist.  \n",
    "For the purpose of clarity, we’ll create the mating pool in two steps. First, we’ll use the output from rankPopulation to determine which planes to select in our selection function. Then, we set up the roulette wheel by calculating a relative fitness weight for each individual. Next, we compare a randomly drawn number to these weights to select our mating pool. We’ll also want to hold on to our best planes, so we introduce elitism. Ultimately, the selection function returns a list of plane IDs, which we can use to create the mating pool in the matingPool function.\n",
    "\n",
    "**Algorithm for weighted random number selection:** Say we have an array of weights $W$, $w_{i}$ is the weight that is proportional to the probability of selecting number $i$. First, we need to find the prefix sum $p$ of each number.($p_{k}$ = sum of all the weights from i= 0 to i= k) $$ p_{k} = \\sum_{i=0}^{i=k} w_{i}$$\n",
    "Next, we randomly select a value between 0 and the largest prefix sum (the prefix sum of the last individual, which is also the sum of all weights). To return the selected number, we find the smallest index that corresponds to the prefix sum greater than the randomly chosen value."
   ]
  },
  {
   "cell_type": "markdown",
   "metadata": {},
   "source": [
    "**To-do** (1.3)\n",
    "1. Complete `selection` function. (4 points)\n"
   ]
  },
  {
   "cell_type": "code",
   "execution_count": 430,
   "metadata": {
    "id": "5coWwXMna53B"
   },
   "outputs": [],
   "source": [
    "def selection(popRanked, eliteSize):\n",
    "    \"\"\"\n",
    "    popRanked: output of rankpopulation()\n",
    "    eliteSize: number of highest ranked individuals we will retain in the next generation.\n",
    "    This function returns a list of indices of individuals selected to form the mating pool.\n",
    "    \"\"\"\n",
    "    selectionResults = []\n",
    "    df = pd.DataFrame(np.array(popRanked[eliteSize:]), columns=[\"Index\",\"Fitness\"])\n",
    "    df['cum_sum'] = df.Fitness.cumsum()\n",
    "    df['cum_perc'] = df.cum_sum/df.Fitness.sum()\n",
    "    ### Retaining the best individual in the population.\n",
    "    for i in range(eliteSize):\n",
    "        selectionResults.append(popRanked[i][0])\n",
    "    # weighted random selection\n",
    "    for i in range(eliteSize, len(popRanked)):\n",
    "        pick = random.random()\n",
    "        for j in range(len(popRanked)-eliteSize):\n",
    "            if pick <= df.iat[j,3]:\n",
    "                selectionResults.append(int(df.iat[j,0]))\n",
    "                break\n",
    "    return selectionResults\n",
    "    #YOUR CODE HERE"
   ]
  },
  {
   "cell_type": "markdown",
   "metadata": {
    "id": "D5tblhAOo4Ey"
   },
   "source": [
    "Now that we have the IDs of the planes that will make up our mating pool from the selection function, we can create the mating pool. We’re simply extracting the selected individuals from our population."
   ]
  },
  {
   "cell_type": "markdown",
   "metadata": {},
   "source": [
    "**To-do**(1.4)\n",
    "1. Complete `matingPool` function. (1 point)"
   ]
  },
  {
   "cell_type": "code",
   "execution_count": 431,
   "metadata": {
    "id": "hqzlbFSGbVbZ"
   },
   "outputs": [],
   "source": [
    "def matingPool(population, selectionResults):\n",
    "    \"\"\"\n",
    "    Create the mating pool.\n",
    "    Returns a list Planes that has been selected. \n",
    "    \"\"\"\n",
    "    pool_list = []\n",
    "    for i in selectionResults:\n",
    "        pool_list.append(population[i])\n",
    "    return pool_list\n",
    "    #YOUR CODE HERE"
   ]
  },
  {
   "cell_type": "markdown",
   "metadata": {
    "id": "eE01dOld9obT"
   },
   "source": [
    "## Breed\n",
    "With our mating pool created, we can create the next generation in a process called crossover (aka “breeding”). Each plane can be represented by a combined list, containing the w vector followed by the b constant. \n",
    "\n",
    "In crossover_ordered, we randomly select a subset of the first parent string and then fill the remainder of the plane with the genes from the second parent in the order in which they appear. See the image below for an example. \n",
    "\n",
    "There is a crossover wrapper function, which is what gets called later on. Inside of this function, based on the passed crossover type, we call the appopriate function to be used in the genetic algorithm.\n",
    "\n",
    "In addition to ordered crossover, you need to implement two additional crossover functions which you must devise.\n",
    "\n",
    "![picture](parent_child.png)"
   ]
  },
  {
   "cell_type": "markdown",
   "metadata": {},
   "source": [
    "**To-do** (1.5) (7 points)\n",
    "1. Complete `crossover_ordered` function. (3 points)\n",
    "2. Complete `your_own_crossover` function. (2 points)\n",
    "3. Complete `your_own_crossover2` function. (2 points)\n",
    "\n",
    "Optional : Name your crossover functions"
   ]
  },
  {
   "cell_type": "code",
   "execution_count": 432,
   "metadata": {
    "id": "SQkwRap6CmCU"
   },
   "outputs": [],
   "source": [
    "def crossover_ordered(plane1, plane2):\n",
    "    \"\"\"\n",
    "    plane1, plane2 : type Plane\n",
    "    Ordered crossover as described in the write-up\n",
    "    return: a new plane that is a child of plane1 and plane2. \n",
    "    \"\"\"\n",
    "    plane1_arr = np.append(plane1.w, plane1.b)\n",
    "    plane2_arr = np.append(plane2.w, plane2.b)\n",
    "    subset_start, subset_end = random.sample(range(len(plane1_arr) + 1), 2)\n",
    "    \n",
    "    if subset_start > subset_end:#swap if start and end in wrong order\n",
    "        subset_start, subset_end = subset_end, subset_start\n",
    "    child_arr = plane2_arr\n",
    "    \n",
    "    for i in range(subset_start, subset_end):\n",
    "        child_arr[i] = plane1_arr[i]\n",
    "        \n",
    "    child = Plane(child_arr[:-1], child_arr[-1])\n",
    "    return child\n",
    "    #YOUR CODE HERE\n",
    "\n",
    "def your_own_crossover(plane1, plane2):\n",
    "    #single point crossover\n",
    "    plane1_arr = np.append(plane1.w, plane1.b)\n",
    "    plane2_arr = np.append(plane2.w, plane2.b)\n",
    "    \n",
    "    point = random.randint(0, len(plane1_arr))\n",
    "    child_arr = plane2_arr\n",
    "    \n",
    "    for i in range(point, len(plane1_arr)):\n",
    "        child_arr[i] = plane1_arr[i]\n",
    "        \n",
    "    child = Plane(child_arr[:-1], child_arr[-1])\n",
    "    return child\n",
    "    #YOUR CODE HERE\n",
    "\n",
    "def your_own_crossover2(plane1, plane2):\n",
    "    #uniform crossover\n",
    "    plane1_arr = np.append(plane1.w, plane1.b)\n",
    "    plane2_arr = np.append(plane2.w, plane2.b)\n",
    "    \n",
    "    random_indices = random.sample(range(len(plane1_arr)), int(len(plane1_arr)/2))\n",
    "    child_arr = plane2_arr\n",
    "    for i in random_indices:\n",
    "        child_arr[i] = plane1_arr[i]\n",
    "        \n",
    "    child = Plane(child_arr[:-1], child_arr[-1])\n",
    "    return child  \n",
    "    #YOUR CODE HERE\n",
    "    \n",
    "def crossover(plane1, plane2, crossover_type):\n",
    "    \"\"\"\n",
    "    Wrapper function for crossover. Returns the child formed by crossing over \n",
    "    plane1 and plane2. \n",
    "    crossover_type is a string specifying which crossover function to use.\n",
    "    \"\"\"\n",
    "    if crossover_type == \"ordered\":\n",
    "        return crossover_ordered(plane1, plane2)\n",
    "    # INSERT YOUR OWN CROSSOVER FUNCTION NAMES HERE\n",
    "    elif crossover_type == \"your_own_crossover\":\n",
    "        return your_own_crossover(plane1, plane2)\n",
    "    elif crossover_type == \"your_own_crossover2\":\n",
    "        return your_own_crossover2(plane1, plane2)\n",
    "    print(\"Crossover type invalid\")\n",
    "    return None"
   ]
  },
  {
   "cell_type": "markdown",
   "metadata": {
    "id": "B_-J7R2gIxgc"
   },
   "source": [
    "Next, we’ll generalize this to create our offspring population. We will use elitism to retain the elites from the current population. Then, we use the crossover wrapper function to fill out the rest of the next generation. "
   ]
  },
  {
   "cell_type": "markdown",
   "metadata": {},
   "source": [
    "**To-do** (1.6) (3 points)\n",
    "1. Complete `breedPopulation`."
   ]
  },
  {
   "cell_type": "code",
   "execution_count": 433,
   "metadata": {
    "id": "7O14aA5vcRjg"
   },
   "outputs": [],
   "source": [
    "def breedPopulation(matingpool, eliteSize, crossover_type):\n",
    "    \"\"\"\n",
    "    matingpool: list of individuals selected to form the mating pool\n",
    "    eliteSize: number of highest ranked individuals preserved in the next generation\n",
    "    crossover_type: string specifying which crossover function to use\n",
    "    This function returns the new population created by pairing individuals from the matingpool \n",
    "    and calling the crossover function to return a child for each pair. \n",
    "    In order to fill out the rest of the next generation,\n",
    "    we need population_size - elite_size random pairs of Planes. \n",
    "    \"\"\"\n",
    "    pairs_needed = len(matingpool) - eliteSize\n",
    "    children = []\n",
    "    for i in range(eliteSize + 1):\n",
    "        children.append(matingpool[i])\n",
    "    \n",
    "    for i in range(pairs_needed):\n",
    "        plane1 = random.choice(matingpool)\n",
    "        plane2 = random.choice(matingpool)\n",
    "        children.append(crossover(plane1, plane2, crossover_type))\n",
    "    \n",
    "    return children\n",
    "    # YOUR CODE HERE\n"
   ]
  },
  {
   "cell_type": "markdown",
   "metadata": {
    "id": "0m96tAsPJZYt"
   },
   "source": [
    "## Mutate\n",
    "Mutation serves an important function in GA, as it helps to avoid local convergence by introducing novel weights/bias that will allow us to explore other parts of the solution space. In this assignment, we shall assume that we mutate a certain fraction of the population, as specified in the variable `mutationRate`.\n",
    "\n",
    "Note that there can be several possible ways to mutate an individual for this problem. You need to decide on your own how to mutate an individual. One hint could be - change one or some of the weights to a random value.\n",
    "\n",
    "**To-do** (1.7) (3 points)\n",
    "1. Implement`mutate` and `mutatePopulation` functions. To generate a random index, you can use `random.randint`."
   ]
  },
  {
   "cell_type": "code",
   "execution_count": 434,
   "metadata": {
    "id": "-3Q91JfRxyYQ"
   },
   "outputs": [],
   "source": [
    "def mutate(individual, mutationRate):\n",
    "    \"\"\"\n",
    "    individual: type Plane\n",
    "    This function should mutate a single individual and return the mutated individual.\n",
    "    Hints given in paragraph above\n",
    "    \"\"\"\n",
    "    mutated_indices_count = int(mutationRate * len(individual.w))\n",
    "    mutated_indices = np.random.randint(0, len(individual.w) - 1, size = mutated_indices_count)\n",
    "    mutated = individual\n",
    "    mutated_arr = np.append(mutated.w, mutated.b)\n",
    "    for i in mutated_indices:\n",
    "        mutated_arr[i] = mutated_arr[i] * (1 + np.random.uniform(-mutationRate, mutationRate))\n",
    "    mutated = Plane(mutated_arr[:-1], mutated_arr[-1])\n",
    "    return mutated\n",
    "    # YOUR CODE HERE"
   ]
  },
  {
   "cell_type": "markdown",
   "metadata": {
    "id": "7R-oKwK0LG9I"
   },
   "source": [
    "Next, we can extend the mutate function to run through the new population.  \n",
    "Please create a function to run mutation over entire population and return the new population."
   ]
  },
  {
   "cell_type": "code",
   "execution_count": 435,
   "metadata": {
    "id": "Gmr6VmcefgVq"
   },
   "outputs": [],
   "source": [
    "def mutatePopulation(population, mutationRate, eliteSize):\n",
    "    \"\"\"\n",
    "    This function should use the above mutate function to mutate each member of the population. Simply iterate over the \n",
    "    population and mutate each individual (excluding the elites) using the mutationRate. \n",
    "    It should then return the mutated population. \n",
    "    \"\"\"\n",
    "    \n",
    "    new_pop = []\n",
    "    for i in range(eliteSize):\n",
    "        new_pop.append(population[i])\n",
    "    for i in range(eliteSize + 1, len(population)):\n",
    "        new_pop.append(mutate(population[i], mutationRate))\n",
    "    \n",
    "    return new_pop\n",
    "    # YOUR CODE HERE"
   ]
  },
  {
   "cell_type": "markdown",
   "metadata": {
    "id": "SJBjmIq6Ljxv"
   },
   "source": [
    "## Repeat\n",
    "We’re almost there. Let’s pull these pieces together to create a function that produces a new generation. First, we rank the planes in the current generation using `rankPopulation`. We then determine our potential parents by running the `selection` function, which allows us to create the mating pool using the `matingPool` function. Finally, we then create our new generation using the `breedPopulation` function (passing in crossover_type) and then applying mutation using the `mutatePopulation` function.\n",
    "\n",
    "**To-do** (1.8) (3 points)\n",
    "1. Implement`nextGeneration`. (3 points)\n"
   ]
  },
  {
   "cell_type": "code",
   "execution_count": 436,
   "metadata": {
    "id": "9Po8UKO-fpVI"
   },
   "outputs": [],
   "source": [
    "def nextGeneration(currentGen, eliteSize, mutationRate, crossover_type, fitness_type):\n",
    "    \"\"\"\n",
    "    This function takes in the current generation, eliteSize and mutationRate and should return the next generation.\n",
    "    The size of the next_generation has to equal to the size of currentGen. \n",
    "    \"\"\"\n",
    "    ranked_pop = rankPopulation(currentGen, fitness_type)\n",
    "    selected = selection(ranked_pop, eliteSize)\n",
    "    pool = matingPool(currentGen, selected)\n",
    "    bred_pop = breedPopulation(pool, eliteSize, crossover_type)\n",
    "    next_generation = mutatePopulation(bred_pop, mutationRate, eliteSize)\n",
    "    \n",
    "    return next_generation\n",
    "    #YOUR CODE HERE"
   ]
  },
  {
   "cell_type": "markdown",
   "metadata": {
    "id": "iVDvaLkxMV0S"
   },
   "source": [
    "###### Final step: Evolution in motion\n",
    "We finally have all the pieces in place to create our GA! All we need to do is create the initial population, and then we can loop through as many generations as we desire. \n",
    "\n",
    "Of course we want to see how much we’ve improved, so we capture the initial and final training/testing fitness and accuracy.\n",
    "\n",
    "The progress of evolution is also worth checking. We should record the fitness of the best individual at every generation. \n",
    "\n",
    "\n",
    "\n",
    "The input parameters:\n",
    "1. `popSize`: The population size at each generation. \n",
    "2. `eliteSize`: The size of the elite population. \n",
    "3. `mutationRate`: The probabilty of an individual gets mutated. \n",
    "4. `generations`: The maxmium number of generations to run for. \n",
    "5. `crossover_type`: A string which specifies which crossover function to use.\n",
    "6. `fitness_type` : A string which specifies which fitness_type method to use.\n",
    "\n",
    "The outputs:\n",
    "1. `bestPlane`: The Plane with the highest fitness score(`bestRoute_list[-1]`). \n",
    "3. `fitness_record`: A list of the best fitness from each generation.(For the purpose of plotting.) `fitness_record[0]` is the best fitness score from the first generation. \n",
    "\n",
    "\n",
    "\n",
    "We recommand the following settings. Feel free to apply settings beyond the recommended values. It is possible to have a flat fitness curve. The initial population can contain Planes that have a relatively high fitness:\n",
    "\n",
    "1. `popSize` : 15-50 \n",
    "2. `eliteSize`: 0.1 * `popsize`\n",
    "3. `mutationRate`: > 0.1\n",
    "4. `generation`: > 1000 \n",
    "\n",
    "\n",
    "\n",
    "Advice for debugging:\n",
    "\n",
    "First, I recommand checking the size of your population in every generation. Your algorithm will not run correctly if the population size changes between generations. Second, plot the `fitness_record` and see if it is increasing monotonically, or the elite population has not been retained properly.\n",
    "\n",
    "\n",
    "\n",
    "**To-do** (1.8) (7 points)\n",
    "1. Implement`geneticAlgorithm`. (3 points)\n",
    "2. Run the `geneticAlgorithm` (1 point)\n",
    "3. Plot the fitness vs generation curve. (2 points) \n",
    "4. Print the initial and final training/testing fitness and accuracy.(1 point)"
   ]
  },
  {
   "cell_type": "code",
   "execution_count": 437,
   "metadata": {
    "id": "nvD-R7oXeqse"
   },
   "outputs": [],
   "source": [
    "def geneticAlgorithm(popSize, eliteSize, mutationRate, generations, crossover_type, fitness_type):\n",
    "    \"\"\"\n",
    "    This function should run the genetic algorithm for the specified number of generations\n",
    "    by following the process outlined  in the \"Approach\" section given earlier in this notebook. \n",
    "    It should print the initial and final training and testing accuracy as well as \n",
    "    initial and final fitness.\n",
    "    It should also generate plots showing the training as well as testing fitness\n",
    "    with respect to generations.\n",
    "    \"\"\"\n",
    "    #1. Create the population\n",
    "    pop = initialPopulation(popSize)\n",
    "    init_rank = rankPopulation(pop)\n",
    "    fitness_record = [init_rank[0][1]]\n",
    "    bestPlane = pop[init_rank[0][0]]\n",
    "    bestPlane_record = init_rank[0][1]\n",
    "    print('init_train_fit = ', bestPlane.fitness(X_train, Y_train, 'numcorrect'))\n",
    "    print('init_train_acc = ', bestPlane.accuracy(X_train, Y_train))\n",
    "    print('init_test_fit = ', bestPlane.fitness(X_test, Y_test, 'numcorrect'))\n",
    "    print('init_test_acc = ', bestPlane.accuracy(X_test, Y_test))\n",
    "    \n",
    "    #2. Rank the population according to fitness in decreasing order\n",
    "    #3. Select the mating pool\n",
    "    #4. Breed\n",
    "    #5. Mutate to create the next generation\n",
    "    #6. Repeat\n",
    "    for i in range(generations):\n",
    "        pop = nextGeneration(pop, eliteSize, mutationRate, crossover_type, fitness_type)\n",
    "        pop_rank = rankPopulation(pop)\n",
    "        fitness_record.append(pop_rank[0][1])\n",
    "        if pop_rank[0][1] > bestPlane_record:\n",
    "            bestPlane = pop[pop_rank[0][0]]\n",
    "            bestPlane_record = pop_rank[0][1]\n",
    "    \n",
    "    print('final_train_fit = ', bestPlane.fitness(X_train, Y_train, 'numcorrect'))\n",
    "    print('final_train_acc = ', bestPlane.accuracy(X_train, Y_train))\n",
    "    print('final_test_fit = ', bestPlane.fitness(X_test, Y_test, 'numcorrect'))\n",
    "    print('final_test_acc = ', bestPlane.accuracy(X_test, Y_test))\n",
    "    \n",
    "    plt.plot(fitness_record)\n",
    "    \n",
    "    return bestPlane, fitness_record\n",
    "    #YOUR CODE HERE"
   ]
  },
  {
   "cell_type": "markdown",
   "metadata": {
    "id": "OI_TC1a7LqGo"
   },
   "source": [
    "\n",
    "# Part 2: Perceptron with Gradient Descent\n",
    "\n",
    "In this section we will code up the perceptron algorithm with gradient descent."
   ]
  },
  {
   "cell_type": "markdown",
   "metadata": {
    "id": "ePsue4e2R7i6"
   },
   "source": [
    "In the following cell, we create the main Perceptron class and its necessary functions. The psuedocode for perceptron `fit` method is below:\n",
    "```\n",
    "def fit\n",
    "\n",
    "Input: X, Y, epochs, learning_rate\n",
    "\n",
    "Output: None\n",
    "\n",
    "for each epoch:\n",
    "    for each xi and yi in X and Y:\n",
    "        y_predicted = predict(x)\n",
    "        if y_predicted = 1 and yi = 0:\n",
    "            w <- w - learning_rate * xi\n",
    "            b <- b - learning_rate\n",
    "        if y_predicted = 0 and yi = 1:\n",
    "            w <- w + learning_rate * xi\n",
    "            b <- b + learning_rate            \n",
    "\n",
    "```\n",
    "\n",
    "**To-do** 2.1 (4 points)\n",
    "1. Complete `model` method. (1 point) Hint: Same as how our GA individual predicts. \n",
    "2. Complete `fit` method. Feel free to change the number of epochs and learning rate from the default values.  (3 points)\n",
    "3. Train the perceptron and print the training/test accuracy. "
   ]
  },
  {
   "cell_type": "code",
   "execution_count": 439,
   "metadata": {
    "id": "QpvrgjEXNRJQ"
   },
   "outputs": [],
   "source": [
    "class Perceptron:\n",
    "    def __init__(self):\n",
    "        self.w = 0\n",
    "        self.b = 0\n",
    "\n",
    "    def model(self, x):\n",
    "        \"\"\"\n",
    "        This function returns the prediction for a single example x\n",
    "        \"\"\"\n",
    "        return np.where((np.dot(x , self.w) + self.b) > 0,1,0)\n",
    "        #Your code here\n",
    "\n",
    "    def predict(self, X):\n",
    "        \"\"\" \n",
    "        returns the predictions for multiple examples X\n",
    "        Size of X: (n, dim)\n",
    "        \"\"\"\n",
    "        Y = []\n",
    "        for x in X:\n",
    "            res = self.model(x)\n",
    "            Y.append(res)\n",
    "        return np.array(Y)\n",
    "\n",
    "    def fit(self, X, Y, epochs = 100, learning_rate = 0.01):\n",
    "        \"\"\"\n",
    "        This function should train the perceptron by running gradient descent \n",
    "        through the entire dataset. The \n",
    "        perceptron algorithm can be found in the lecture slides. Psuedocode has been provided above\n",
    "        \"\"\"\n",
    "        self.w = np.zeros(X.shape[1])\n",
    "        \n",
    "        for i in range(epochs):\n",
    "            y_predicted = self.predict(X)\n",
    "            for j in range(Y_train.shape[0]): # repeat for each point in Y_train\n",
    "                if y_predicted[j] == 1 and Y[j] == 0:\n",
    "                    self.w = self.w - (learning_rate * X[j])\n",
    "                    self.b = self.b - learning_rate\n",
    "                if y_predicted[j] == 0 and Y[j] == 1:\n",
    "                    self.w = self.w + (learning_rate * X[j])\n",
    "                    self.b = self.b - learning_rate\n",
    "                    \n",
    "        #Your code here"
   ]
  },
  {
   "cell_type": "code",
   "execution_count": 484,
   "metadata": {
    "id": "-c8prmMEophn"
   },
   "outputs": [
    {
     "name": "stdout",
     "output_type": "stream",
     "text": [
      "Perceptron training accuracy: 0.8989010989010989\n",
      "Perceptron test accuracy: 0.8859649122807017\n"
     ]
    }
   ],
   "source": [
    "perceptron = Perceptron()\n",
    "\n",
    "\n",
    "#Your code here\n",
    "epochs = 1000\n",
    "learning_rate = .01\n",
    "\n",
    "perceptron.fit(X_train,Y_train, epochs, learning_rate)\n",
    "Y_pred_test = perceptron.predict(X_test)\n",
    "Y_pred_train = perceptron.predict(X_train)\n",
    "#Return the perceptron test accuracy. \n",
    "print(\"Perceptron training accuracy:\", accuracy_score(Y_pred_train, Y_train))\n",
    "print(\"Perceptron test accuracy:\", accuracy_score(Y_pred_test, Y_test))"
   ]
  },
  {
   "cell_type": "markdown",
   "metadata": {
    "id": "RVBH51mA2AGv"
   },
   "source": [
    "# Part 3: Report and Submission Guidelines (15 points)\n",
    "\n",
    "The purpose of this assignment is to compare the performance of the Genetic Algorithm in varying conditions and Perceptron for this problem. \n",
    "\n",
    "You need to implement a total of **3** crossover functions and **2** fitness functions, as well as **1** mutation function. You can choose any mutation rate or even a different mutation strategy which gives you the best testing performance.\n",
    "\n",
    "The best way to compare different algorithms is to run many iterations, and record the results. For this assignment, each time you call the `geneticAlgorithm` function, you use a certain crossover and fitness function. There are 3 crossover functions and 2 fitness function, which means there are 6 possible combinations. We want to compare the performance of these different combinations with each other as well as with Perceptron Gradient Descent.\n",
    "\n",
    "For each combination (ie. crossover_ordered paired with fitness1, crossover_ordered paired with fitness2) you should run the `geneticAlgorithm` function 5 times at least. Then, take the average final **testing** accuracy for this specific combination, and report these in a table. Also add the average accuracy of Perceptron with gradient descent algorithm to this table.\n",
    "\n",
    "The final report should contain an accuracy table, that has the average final testing accuracies for each combination of the genetic algorithm. Additionally, for each combination, please produce one plot (pick one of the 5 or more iterations) that plots fitness versus number of generations.\n",
    "\n",
    "You need to write the following in your report:\n",
    "- Accuracies table as specified above (5 points)\n",
    "- Training and testing fitness plots with respect to generation (5 points)\n",
    "- Description of your mutation function as well as crossover functions (5 points)\n",
    "\n",
    "\n",
    "\n",
    "##### Append the report to the PDF copy of your notebook."
   ]
  },
  {
   "cell_type": "code",
   "execution_count": 486,
   "metadata": {},
   "outputs": [
    {
     "name": "stdout",
     "output_type": "stream",
     "text": [
      "init_train_fit =  285\n",
      "init_train_acc =  0.6263736263736264\n",
      "init_test_fit =  72\n",
      "init_test_acc =  0.631578947368421\n",
      "final_train_fit =  370\n",
      "final_train_acc =  0.8131868131868132\n",
      "final_test_fit =  95\n",
      "final_test_acc =  0.8333333333333334\n",
      "init_train_fit =  285\n",
      "init_train_acc =  0.6263736263736264\n",
      "init_test_fit =  72\n",
      "init_test_acc =  0.631578947368421\n",
      "final_train_fit =  285\n",
      "final_train_acc =  0.6263736263736264\n",
      "final_test_fit =  72\n",
      "final_test_acc =  0.631578947368421\n",
      "init_train_fit =  285\n",
      "init_train_acc =  0.6263736263736264\n",
      "init_test_fit =  72\n",
      "init_test_acc =  0.631578947368421\n",
      "final_train_fit =  361\n",
      "final_train_acc =  0.7934065934065934\n",
      "final_test_fit =  85\n",
      "final_test_acc =  0.7456140350877193\n",
      "init_train_fit =  360\n",
      "init_train_acc =  0.7912087912087912\n",
      "init_test_fit =  91\n",
      "init_test_acc =  0.7982456140350878\n",
      "final_train_fit =  360\n",
      "final_train_acc =  0.7912087912087912\n",
      "final_test_fit =  91\n",
      "final_test_acc =  0.7982456140350878\n",
      "init_train_fit =  285\n",
      "init_train_acc =  0.6263736263736264\n",
      "init_test_fit =  72\n",
      "init_test_acc =  0.631578947368421\n",
      "final_train_fit =  285\n",
      "final_train_acc =  0.6263736263736264\n",
      "final_test_fit =  72\n",
      "final_test_acc =  0.631578947368421\n"
     ]
    },
    {
     "data": {
      "image/png": "[encoded data removed]",
      "text/plain": [
       "<Figure size 432x288 with 1 Axes>"
      ]
     },
     "metadata": {
      "needs_background": "light"
     },
     "output_type": "display_data"
    }
   ],
   "source": [
    "for i in range(5):\n",
    "    geneticAlgorithm(15, 2, 0.2, 100, 'your_own_crossover2', \"perceptron_fitness\")"
   ]
  },
  {
   "cell_type": "code",
   "execution_count": null,
   "metadata": {},
   "outputs": [],
   "source": []
  }
 ],
 "metadata": {
  "colab": {
   "collapsed_sections": [],
   "name": "COGS 160 Assignment 1 Final.ipynb",
   "provenance": [
    {
     "file_id": "17su49iK5-5t0zVO45QNMNQnWqQRfHUFd",
     "timestamp": 1618528542101
    }
   ]
  },
  "kernelspec": {
   "display_name": "Python 3 (ipykernel)",
   "language": "python",
   "name": "python3"
  },
  "language_info": {
   "codemirror_mode": {
    "name": "ipython",
    "version": 3
   },
   "file_extension": ".py",
   "mimetype": "text/x-python",
   "name": "python",
   "nbconvert_exporter": "python",
   "pygments_lexer": "ipython3",
   "version": "3.9.5"
  },
  "vscode": {
   "interpreter": {
    "hash": "77eee26a74623a023872d1bc89eff3417ddfa96c1608d48d76f7b381bf2c2567"
   }
  }
 },
 "nbformat": 4,
 "nbformat_minor": 1
}
